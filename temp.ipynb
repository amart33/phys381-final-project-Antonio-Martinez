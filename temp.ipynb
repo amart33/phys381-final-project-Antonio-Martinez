{
 "cells": [
  {
   "cell_type": "code",
   "execution_count": 1,
   "id": "33c8b7a9",
   "metadata": {},
   "outputs": [
    {
     "name": "stdout",
     "output_type": "stream",
     "text": [
      "Starting PHYS 381 Final Project\n"
     ]
    }
   ],
   "source": [
    "print(\"Starting PHYS 381 Final Project\")"
   ]
  },
  {
   "cell_type": "code",
   "execution_count": null,
   "id": "e3569ed1",
   "metadata": {},
   "outputs": [],
   "source": []
  }
 ],
 "metadata": {
  "kernelspec": {
   "display_name": "Python 3 (ipykernel)",
   "language": "python",
   "name": "python3"
  },
  "language_info": {
   "codemirror_mode": {
    "name": "ipython",
    "version": 3
   },
   "file_extension": ".py",
   "mimetype": "text/x-python",
   "name": "python",
   "nbconvert_exporter": "python",
   "pygments_lexer": "ipython3",
   "version": "3.11.5"
  }
 },
 "nbformat": 4,
 "nbformat_minor": 5
}
